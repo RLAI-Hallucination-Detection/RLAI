{
 "cells": [
  {
   "cell_type": "code",
   "execution_count": 7,
   "metadata": {},
   "outputs": [],
   "source": [
    "import os \n",
    "import requests\n",
    "from google import genai"
   ]
  },
  {
   "cell_type": "code",
   "execution_count": 2,
   "metadata": {},
   "outputs": [],
   "source": [
    "from dotenv import load_dotenv\n",
    "load_dotenv()\n",
    "\n",
    "GEMINI_API_KEY = os.getenv(\"GEMINI_API\")\n",
    "GOOGLE_SEARCH_API_KEY = os.getenv(\"GOOGLE_SEARCH_API\")\n",
    "SEARCH_ENGINE_ID = os.getenv(\"SEARCH_ENGINE_ID\")"
   ]
  },
  {
   "cell_type": "code",
   "execution_count": 6,
   "metadata": {},
   "outputs": [],
   "source": [
    "class Enhancer:\n",
    "    \"\"\"Class to enhance search queries and content using Gemini AI.\"\"\"\n",
    "\n",
    "    def __init__(self):\n",
    "        if not GEMINI_API_KEY:\n",
    "            raise ValueError(\"Gemini API key is missing! Add it to .env\")\n",
    "\n",
    "        self.client = genai.Client(api_key=GEMINI_API_KEY)\n",
    "\n",
    "    def enhance_query(self, original_query: str) -> str:\n",
    "\n",
    "        prompt = f\"\"\"\n",
    "        Optimize this search query for maximum relevant web search results:\n",
    "        {original_query}\n",
    "        Return ONLY ONE search query.\n",
    "        \"\"\"\n",
    "\n",
    "        response = self.client.models.generate_content(\n",
    "            model=\"gemini-2.0-flash\",\n",
    "            contents=[prompt]\n",
    "        )\n",
    "        return response.text\n",
    "\n",
    "    def enhance_content(self, original_content: str) -> str:\n",
    "\n",
    "        prompt = f\"\"\"\n",
    "        OPTIMIZE and SUMMARIZE this content for maximum relevance and clarity:\n",
    "\n",
    "        {original_content}\n",
    "        \n",
    "        DO NOT miss out on any important information.\n",
    "        DO NOT add any new information.\n",
    "        DO NOT change the meaning of the content.\n",
    "        \"\"\"\n",
    "\n",
    "        response = self.client.models.generate_content(\n",
    "            model=\"gemini-2.0-flash\",\n",
    "            contents=[prompt]\n",
    "        )\n",
    "        return response.text"
   ]
  },
  {
   "cell_type": "code",
   "execution_count": null,
   "metadata": {},
   "outputs": [],
   "source": [
    "def websearch_url(enhanced_query, num_results=3): #Returns a list of URLs using Google Search API!\n",
    "\n",
    "    search_url = \"https://www.googleapis.com/customsearch/v1\"\n",
    "    \n",
    "    params = {\n",
    "        \"q\": enhanced_query,  \n",
    "        \"key\": GOOGLE_SEARCH_API_KEY,  \n",
    "        \"cx\": SEARCH_ENGINE_ID,  \n",
    "        \"num\": num_results\n",
    "    }\n",
    "    \n",
    "    response = requests.get(search_url, params=params)\n",
    "    results = response.json()\n",
    "\n",
    "    if \"items\" in results:\n",
    "        return [item[\"link\"] for item in results[\"items\"]]\n",
    "    else:\n",
    "        return [\"No results found\"]"
   ]
  }
 ],
 "metadata": {
  "kernelspec": {
   "display_name": "Python 3",
   "language": "python",
   "name": "python3"
  },
  "language_info": {
   "codemirror_mode": {
    "name": "ipython",
    "version": 3
   },
   "file_extension": ".py",
   "mimetype": "text/x-python",
   "name": "python",
   "nbconvert_exporter": "python",
   "pygments_lexer": "ipython3",
   "version": "3.11.9"
  }
 },
 "nbformat": 4,
 "nbformat_minor": 2
}
