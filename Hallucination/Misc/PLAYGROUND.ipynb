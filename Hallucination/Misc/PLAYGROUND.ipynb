{
 "cells": [
  {
   "cell_type": "code",
   "execution_count": 23,
   "metadata": {},
   "outputs": [],
   "source": [
    "from google import genai\n",
    "from bleurt import score as bleurt_score\n",
    "from sentence_transformers import CrossEncoder"
   ]
  },
  {
   "cell_type": "code",
   "execution_count": 27,
   "metadata": {},
   "outputs": [],
   "source": [
    "class LLMEvaluator:\n",
    "    def __init__(self, gemini_api_key):\n",
    "        # Init BLEURT scorer\n",
    "        self.bleurt_scorer = bleurt_score.BleurtScorer(\"bleurt/bleurt-20\")\n",
    "\n",
    "        # Init CrossEncoder model\n",
    "        self.crossencoder = CrossEncoder(\"cross-encoder/stsb-roberta-large\")\n",
    "\n",
    "        # Init Gemini client\n",
    "        self.client = genai.Client(api_key=\"HAL_API_KEY\")\n",
    "    \n",
    "    def bleurt_score(self, query, llm_response, ground_truth):\n",
    "\n",
    "        raw_score = self.bleurt_scorer.score(\n",
    "            references=[ground_truth],\n",
    "            candidates=[llm_response]\n",
    "        )[0]\n",
    "\n",
    "        normalized = min(max(raw_score, 0), 1)\n",
    "        return round(normalized, 4)\n",
    "    \n",
    "    def crossencoder_score(self, query, llm_response, ground_truth):\n",
    "\n",
    "        raw_score = self.crossencoder.predict([(ground_truth, llm_response)])[0]\n",
    "        normalized = min(max(raw_score / 5.0, 0), 1)\n",
    "\n",
    "        return round(normalized, 4)\n",
    "\n",
    "    def gemini_score(self, query, llm_response, ground_truth):\n",
    "\n",
    "        prompt = f\"\"\"\n",
    "            You are a factual evaluator.\n",
    "            Compare the following LLM response with the ground truth and score how factually correct it is on a scale of 0 (completely hallucinated) to 1 (fully grounded in the reference).\n",
    "            Be strict. Focus on whether the meaning and facts match. Just paraphrasing is acceptable, but adding wrong or unrelated information is not.\n",
    "\n",
    "            QUERY: {query}\n",
    "            LLM RESPONSE: {llm_response}\n",
    "            GROUND TRUTH: {ground_truth}\n",
    "\n",
    "            Give only a number between 0 and 1. No explanation.\n",
    "        \"\"\"\n",
    "\n",
    "        try:\n",
    "            response = self.client.models.generate_content(\n",
    "                model=\"gemini-2.0-flash\",\n",
    "                contents=[prompt]\n",
    "            )\n",
    "            score = int(response.text)\n",
    "            normalized = min(max(score, 0), 1)\n",
    "\n",
    "            return round(normalized, 4)\n",
    "\n",
    "        except:\n",
    "            return None\n",
    "        \n",
    "    def get_all_scores(self, query, llm_response, ground_truth):\n",
    "\n",
    "        bleurt = self.bleurt_score(query, llm_response, ground_truth)\n",
    "        cross = self.crossencoder_score(query, llm_response, ground_truth)\n",
    "        gemini = self.gemini_score(query, llm_response, ground_truth)\n",
    "\n",
    "        return [bleurt, cross, gemini]"
   ]
  }
 ],
 "metadata": {
  "kernelspec": {
   "display_name": "Python 3",
   "language": "python",
   "name": "python3"
  },
  "language_info": {
   "codemirror_mode": {
    "name": "ipython",
    "version": 3
   },
   "file_extension": ".py",
   "mimetype": "text/x-python",
   "name": "python",
   "nbconvert_exporter": "python",
   "pygments_lexer": "ipython3",
   "version": "3.11.9"
  }
 },
 "nbformat": 4,
 "nbformat_minor": 2
}
